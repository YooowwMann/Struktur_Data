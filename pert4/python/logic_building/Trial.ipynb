{
 "cells": [
  {
   "cell_type": "code",
   "execution_count": 1,
   "id": "2474f62e",
   "metadata": {},
   "outputs": [
    {
     "name": "stdout",
     "output_type": "stream",
     "text": [
      "Hasil kali: 50\n",
      "Hasil bagi: 2.0\n",
      "Hasil tambah: 15\n",
      "Hasil kurang: 5\n"
     ]
    }
   ],
   "source": [
    "# Operasi sederhana\n",
    "def operasi_sederhana(a, b):\n",
    "    hasil_kali = a * b\n",
    "    hasil_bagi = a / b if b != 0 else \"Tidak dapat dibagi dengan nol\"\n",
    "    hasil_tambah = a + b\n",
    "    hasil_kurang = a - b\n",
    "    \n",
    "    return {\n",
    "        \"kali\": hasil_kali,\n",
    "        \"bagi\": hasil_bagi,\n",
    "        \"tambah\": hasil_tambah,\n",
    "        \"kurang\": hasil_kurang\n",
    "    }\n",
    "\n",
    "# Contoh penggunaan\n",
    "a = 10\n",
    "b = 5\n",
    "hasil = operasi_sederhana(a, b)\n",
    "\n",
    "print(\"Hasil kali:\", hasil[\"kali\"])\n",
    "print(\"Hasil bagi:\", hasil[\"bagi\"])\n",
    "print(\"Hasil tambah:\", hasil[\"tambah\"])\n",
    "print(\"Hasil kurang:\", hasil[\"kurang\"])"
   ]
  }
 ],
 "metadata": {
  "kernelspec": {
   "display_name": "Python 3",
   "language": "python",
   "name": "python3"
  },
  "language_info": {
   "codemirror_mode": {
    "name": "ipython",
    "version": 3
   },
   "file_extension": ".py",
   "mimetype": "text/x-python",
   "name": "python",
   "nbconvert_exporter": "python",
   "pygments_lexer": "ipython3",
   "version": "3.12.3"
  }
 },
 "nbformat": 4,
 "nbformat_minor": 5
}
