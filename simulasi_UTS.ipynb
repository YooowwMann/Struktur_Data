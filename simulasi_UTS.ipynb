{
 "cells": [
  {
   "cell_type": "code",
   "execution_count": 10,
   "id": "fe4cd472",
   "metadata": {},
   "outputs": [
    {
     "name": "stdout",
     "output_type": "stream",
     "text": [
      "Selamat Datang di Universitas Esa Unggul\n",
      "Lazuwardi diterima sebagai calon mahasiswa baru.\n"
     ]
    }
   ],
   "source": [
    "def tampilkan_judul(Nama_Universitas):\n",
    "  print(f\"Selamat Datang di {Nama_Universitas}\")\n",
    "\n",
    "def input_data_mahasiswa(nama, nilai_rata, nilai_wawancara):\n",
    "  print(f\"\\nMasukan Nama Calon Mahasiswa: {nama}\")\n",
    "  print(f\"Masukan Nilai Rata-rata raport: {nilai_rata}\")\n",
    "  print(f\"Masukan Nilai Wawancara: {nilai_wawancara}\")\n",
    "\n",
    "def proses_penerimaan(nama, nilai_rata, nilai_wawancara):\n",
    "  if nilai_rata >= 80 and nilai_wawancara >= 75:\n",
    "    print(f\"{nama} diterima sebagai calon mahasiswa baru.\")\n",
    "  else:\n",
    "    print(f\"{nama} tidak diterima sebagai calon mahasiswa baru.\")\n",
    "\n",
    "def main():\n",
    "  tampilkan_judul(\"Universitas Esa Unggul\")\n",
    "  nama = input(\"Masukan Nama Calon Mahasiswa: \")\n",
    "  nilai_rata = float(input(\"Masukan Nilai Rata-rata raport: \"))\n",
    "  nilai_wawancara = float(input(\"Masukan Nilai Wawancara: \"))\n",
    "  proses_penerimaan(nama, nilai_rata, nilai_wawancara)\n",
    "\n",
    "main()"
   ]
  }
 ],
 "metadata": {
  "kernelspec": {
   "display_name": "Python 3",
   "language": "python",
   "name": "python3"
  },
  "language_info": {
   "codemirror_mode": {
    "name": "ipython",
    "version": 3
   },
   "file_extension": ".py",
   "mimetype": "text/x-python",
   "name": "python",
   "nbconvert_exporter": "python",
   "pygments_lexer": "ipython3",
   "version": "3.12.3"
  }
 },
 "nbformat": 4,
 "nbformat_minor": 5
}
