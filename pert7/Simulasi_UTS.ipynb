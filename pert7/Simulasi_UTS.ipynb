{
 "cells": [
  {
   "cell_type": "markdown",
   "id": "1522be1d",
   "metadata": {},
   "source": [
    "1.  bikin array dengan berisi daftar 5 nilai acak lalu tampilkan nilai tersebut secara berurutan dari kecil ke besar"
   ]
  },
  {
   "cell_type": "code",
   "execution_count": 3,
   "id": "e636b674",
   "metadata": {},
   "outputs": [
    {
     "name": "stdout",
     "output_type": "stream",
     "text": [
      "[1, 2, 3, 4, 5, 7]\n"
     ]
    }
   ],
   "source": [
    "Nilai = [3, 7, 2, 5, 1, 4]\n",
    "Nilai.sort()\n",
    "print(Nilai)"
   ]
  },
  {
   "cell_type": "markdown",
   "id": "b8bc753d",
   "metadata": {},
   "source": [
    "2.  bikin variable dengan nama nim, didalam nim tersebut terdapat nim lu, setiap nim dikali 3"
   ]
  },
  {
   "cell_type": "code",
   "execution_count": 25,
   "id": "788af535",
   "metadata": {},
   "outputs": [
    {
     "name": "stdout",
     "output_type": "stream",
     "text": [
      "<generator object <genexpr> at 0x7f5541b8acf0>\n"
     ]
    }
   ],
   "source": [
    "nim = \"20240801128\"\n",
    "Jumlah = [int(i) * 3 for i in nim]\n",
    "print(jumlah)"
   ]
  },
  {
   "cell_type": "markdown",
   "id": "1d12acc5",
   "metadata": {},
   "source": [
    "3.  buatkan array didalamnya terdapat nilai dari angka 1 -8 dan cari semua bilangan ganjil atau genap, atau yang hanya berada ditengah saja"
   ]
  },
  {
   "cell_type": "code",
   "execution_count": 11,
   "id": "75b0c2d0",
   "metadata": {},
   "outputs": [
    {
     "name": "stdout",
     "output_type": "stream",
     "text": [
      "[1, 3, 5, 7]\n",
      "[2, 4, 6, 8]\n",
      "[4, 5]\n"
     ]
    }
   ],
   "source": [
    "array = [1, 2, 3, 4, 5, 6, 7, 8]\n",
    "ganjil = [i for i in array if i % 2 !=0]\n",
    "genap = [i for i in array if i % 2 == 0]\n",
    "tengah = array [3:5]\n",
    "\n",
    "print(ganjil)\n",
    "print(genap)\n",
    "print(tengah)"
   ]
  },
  {
   "cell_type": "markdown",
   "id": "e1253321",
   "metadata": {},
   "source": [
    "4. buat variable first name,  midlename dan  lastname dengan isian bebas, gabungkan untuk menjadi kalimat yang pas"
   ]
  },
  {
   "cell_type": "code",
   "execution_count": 30,
   "id": "71eafc42",
   "metadata": {},
   "outputs": [
    {
     "name": "stdout",
     "output_type": "stream",
     "text": [
      "Nama lengkap:  ads adsf asfs\n"
     ]
    }
   ],
   "source": [
    "first_name = str(input(\"Nama depan: \"))\n",
    "middle_name = str(input(\"nama tengah: \"))\n",
    "last_name = str(input(\"Nama belakang: \"))\n",
    "print(\"Nama lengkap: \", first_name +\" \"+ middle_name +\" \"+ last_name)"
   ]
  },
  {
   "cell_type": "markdown",
   "id": "ee931263",
   "metadata": {},
   "source": [
    "6. buat variabel yang isinya nim lalu jumlahkan semua angkanya"
   ]
  },
  {
   "cell_type": "code",
   "execution_count": 29,
   "id": "3a01838b",
   "metadata": {},
   "outputs": [
    {
     "name": "stdout",
     "output_type": "stream",
     "text": [
      "<generator object <genexpr> at 0x7f5541b8acf0>\n"
     ]
    }
   ],
   "source": [
    "nim = \"20240801128\"\n",
    "Jumlah = sum([int(i) for i in nim])\n",
    "print(jumlah)"
   ]
  },
  {
   "cell_type": "markdown",
   "id": "863d4f72",
   "metadata": {},
   "source": [
    "7.  Mengganti sebuah nilai pada suatu variable"
   ]
  },
  {
   "cell_type": "code",
   "execution_count": null,
   "id": "4a0c188a",
   "metadata": {},
   "outputs": [
    {
     "name": "stdout",
     "output_type": "stream",
     "text": [
      "80\n"
     ]
    }
   ],
   "source": [
    "nilai = 100\n",
    "nilai = 80\n",
    "print(nilai)"
   ]
  },
  {
   "cell_type": "markdown",
   "id": "3b5df94c",
   "metadata": {},
   "source": [
    "8.  buat dua variabel lalu tampilkan hasil bandingan kedua nilainya"
   ]
  },
  {
   "cell_type": "code",
   "execution_count": 33,
   "id": "1c8ef2c5",
   "metadata": {},
   "outputs": [
    {
     "name": "stdout",
     "output_type": "stream",
     "text": [
      "(False, True)\n"
     ]
    }
   ],
   "source": [
    "A = 15\n",
    "B = 20\n",
    "banding = A >= B, A <= B\n",
    "print(banding)"
   ]
  },
  {
   "cell_type": "markdown",
   "id": "c1296660",
   "metadata": {},
   "source": [
    "9.  buat array lalu tampilkan semua valuenya beserta indexnya"
   ]
  },
  {
   "cell_type": "code",
   "execution_count": 51,
   "id": "97861be4",
   "metadata": {},
   "outputs": [
    {
     "name": "stdout",
     "output_type": "stream",
     "text": [
      "0 a\n",
      "1 2\n",
      "2 b\n",
      "3 4\n",
      "4 5\n"
     ]
    }
   ],
   "source": [
    "array = [\"a\", 2, 'b', 4, 5]\n",
    "for i, val in enumerate(array):\n",
    "    print(i, val)"
   ]
  },
  {
   "cell_type": "markdown",
   "id": "149cc788",
   "metadata": {},
   "source": [
    "10.  Membuat variable dengen value yang dapat dikeluarkan masing masing"
   ]
  },
  {
   "cell_type": "code",
   "execution_count": 55,
   "id": "7e3e699c",
   "metadata": {},
   "outputs": [
    {
     "name": "stdout",
     "output_type": "stream",
     "text": [
      "5\n",
      "1\n",
      "2\n"
     ]
    }
   ],
   "source": [
    "nilai = [1, 2, 3, 4, 5]\n",
    "a, b, c, d, e = nilai\n",
    "print(e)\n",
    "print(a)\n",
    "print(b)"
   ]
  }
 ],
 "metadata": {
  "kernelspec": {
   "display_name": "Python 3",
   "language": "python",
   "name": "python3"
  },
  "language_info": {
   "codemirror_mode": {
    "name": "ipython",
    "version": 3
   },
   "file_extension": ".py",
   "mimetype": "text/x-python",
   "name": "python",
   "nbconvert_exporter": "python",
   "pygments_lexer": "ipython3",
   "version": "3.12.3"
  }
 },
 "nbformat": 4,
 "nbformat_minor": 5
}
