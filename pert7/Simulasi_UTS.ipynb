{
 "cells": [
  {
   "cell_type": "markdown",
   "id": "1522be1d",
   "metadata": {},
   "source": [
    "1.  bikin array dengan berisi daftar 5 nilai acak lalu tampilkan nilai tersebut secara berurutan dari kecil ke besar"
   ]
  },
  {
   "cell_type": "code",
   "execution_count": 3,
   "id": "e636b674",
   "metadata": {},
   "outputs": [
    {
     "name": "stdout",
     "output_type": "stream",
     "text": [
      "[1, 2, 3, 4, 5, 7]\n"
     ]
    }
   ],
   "source": [
    "Nilai = [3, 7, 2, 5, 1, 4]\n",
    "Nilai.sort()\n",
    "print(Nilai)"
   ]
  },
  {
   "cell_type": "markdown",
   "id": "b8bc753d",
   "metadata": {},
   "source": [
    "2.  bikin variable dengan nama nim, didalam nim tersebut terdapat nim lu, setiap nim dikali 3"
   ]
  },
  {
   "cell_type": "code",
   "execution_count": 3,
   "id": "788af535",
   "metadata": {},
   "outputs": [
    {
     "name": "stdout",
     "output_type": "stream",
     "text": [
      "[6, 0, 6, 12, 0, 24, 0, 3, 3, 6, 24]\n"
     ]
    }
   ],
   "source": [
    "nim = \"20240801128\"\n",
    "Jumlah = [int(i) * 3 for i in nim]\n",
    "print(Jumlah)"
   ]
  },
  {
   "cell_type": "markdown",
   "id": "1d12acc5",
   "metadata": {},
   "source": [
    "3.  buatkan array didalamnya terdapat nilai dari angka 1 -8 dan cari semua bilangan ganjil atau genap, atau yang hanya berada ditengah saja"
   ]
  },
  {
   "cell_type": "code",
   "execution_count": 11,
   "id": "75b0c2d0",
   "metadata": {},
   "outputs": [
    {
     "name": "stdout",
     "output_type": "stream",
     "text": [
      "[1, 3, 5, 7]\n",
      "[2, 4, 6, 8]\n",
      "[4, 5]\n"
     ]
    }
   ],
   "source": [
    "array = [1, 2, 3, 4, 5, 6, 7, 8]\n",
    "ganjil = [i for i in array if i % 2 !=0]\n",
    "genap = [i for i in array if i % 2 == 0]\n",
    "tengah = array [3:5]\n",
    "\n",
    "print(ganjil)\n",
    "print(genap)\n",
    "print(tengah)"
   ]
  },
  {
   "cell_type": "markdown",
   "id": "e1253321",
   "metadata": {},
   "source": [
    "4. buat variable first name,  midlename dan  lastname dengan isian bebas, gabungkan untuk menjadi kalimat yang pas"
   ]
  },
  {
   "cell_type": "code",
   "execution_count": 30,
   "id": "71eafc42",
   "metadata": {},
   "outputs": [
    {
     "name": "stdout",
     "output_type": "stream",
     "text": [
      "Nama lengkap:  ads adsf asfs\n"
     ]
    }
   ],
   "source": [
    "first_name = str(input(\"Nama depan: \"))\n",
    "middle_name = str(input(\"nama tengah: \"))\n",
    "last_name = str(input(\"Nama belakang: \"))\n",
    "print(\"Nama lengkap: \", first_name +\" \"+ middle_name +\" \"+ last_name)"
   ]
  },
  {
   "cell_type": "markdown",
   "id": "ee931263",
   "metadata": {},
   "source": [
    "6. buat variabel yang isinya nim lalu jumlahkan semua angkanya"
   ]
  },
  {
   "cell_type": "code",
   "execution_count": 4,
   "id": "3a01838b",
   "metadata": {},
   "outputs": [
    {
     "name": "stdout",
     "output_type": "stream",
     "text": [
      "28\n"
     ]
    }
   ],
   "source": [
    "nim = \"20240801128\"\n",
    "Jumlah = sum([int(i) for i in nim])\n",
    "print(Jumlah)"
   ]
  },
  {
   "cell_type": "markdown",
   "id": "863d4f72",
   "metadata": {},
   "source": [
    "7.  Mengganti sebuah nilai pada suatu variable"
   ]
  },
  {
   "cell_type": "code",
   "execution_count": null,
   "id": "4a0c188a",
   "metadata": {},
   "outputs": [
    {
     "name": "stdout",
     "output_type": "stream",
     "text": [
      "80\n"
     ]
    }
   ],
   "source": [
    "nilai = 100\n",
    "nilai = 80\n",
    "print(nilai)"
   ]
  },
  {
   "cell_type": "markdown",
   "id": "3b5df94c",
   "metadata": {},
   "source": [
    "8.  buat dua variabel lalu tampilkan hasil bandingan kedua nilainya"
   ]
  },
  {
   "cell_type": "code",
   "execution_count": 33,
   "id": "1c8ef2c5",
   "metadata": {},
   "outputs": [
    {
     "name": "stdout",
     "output_type": "stream",
     "text": [
      "(False, True)\n"
     ]
    }
   ],
   "source": [
    "A = 15\n",
    "B = 20\n",
    "banding = A >= B, A <= B\n",
    "print(banding)"
   ]
  },
  {
   "cell_type": "markdown",
   "id": "c1296660",
   "metadata": {},
   "source": [
    "9.  buat array lalu tampilkan semua valuenya beserta indexnya"
   ]
  },
  {
   "cell_type": "code",
   "execution_count": 51,
   "id": "97861be4",
   "metadata": {},
   "outputs": [
    {
     "name": "stdout",
     "output_type": "stream",
     "text": [
      "0 a\n",
      "1 2\n",
      "2 b\n",
      "3 4\n",
      "4 5\n"
     ]
    }
   ],
   "source": [
    "array = [\"a\", 2, 'b', 4, 5]\n",
    "for i, val in enumerate(array):\n",
    "    print(i, val)"
   ]
  },
  {
   "cell_type": "markdown",
   "id": "149cc788",
   "metadata": {},
   "source": [
    "10.  Membuat variable dengen value yang dapat dikeluarkan masing masing"
   ]
  },
  {
   "cell_type": "code",
   "execution_count": 55,
   "id": "7e3e699c",
   "metadata": {},
   "outputs": [
    {
     "name": "stdout",
     "output_type": "stream",
     "text": [
      "5\n",
      "1\n",
      "2\n"
     ]
    }
   ],
   "source": [
    "nilai = [1, 2, 3, 4, 5]\n",
    "a, b, c, d, e = nilai\n",
    "print(e)\n",
    "print(a)\n",
    "print(b)"
   ]
  },
  {
   "cell_type": "markdown",
   "id": "54a5eda9",
   "metadata": {},
   "source": [
    "1. Buat array dengan 7 angka acak, lalu cetak angka terbesar dan terkecil."
   ]
  },
  {
   "cell_type": "code",
   "execution_count": 78,
   "id": "09df982f",
   "metadata": {},
   "outputs": [
    {
     "name": "stdout",
     "output_type": "stream",
     "text": [
      "Besar:  9\n",
      "Kecil:  0\n",
      "Urutan:  [0, 1, 3, 5, 7, 8, 9]\n"
     ]
    }
   ],
   "source": [
    "array = [7, 3, 1, 8, 5, 9, 0]\n",
    "\n",
    "besar = max(array)\n",
    "kecil = min(array)\n",
    "urutan = sorted(array)\n",
    "print(\"Besar: \", besar)\n",
    "print(\"Kecil: \", kecil)\n",
    "print(\"Urutan: \", urutan)"
   ]
  },
  {
   "cell_type": "markdown",
   "id": "f98c8aa1",
   "metadata": {},
   "source": [
    "Diberi nim = \"22106666\", tampilkan jumlah digit genap dan ganjilnya."
   ]
  },
  {
   "cell_type": "code",
   "execution_count": 79,
   "id": "af4e8864",
   "metadata": {},
   "outputs": [
    {
     "name": "stdout",
     "output_type": "stream",
     "text": [
      "Genap:  [2, 2, 0, 6, 6, 6, 6]\n",
      "Ganjil:  [1]\n"
     ]
    }
   ],
   "source": [
    "nim = \"22106666\"\n",
    "genap = [int(i) for i in nim if int(i) %2 == 0]\n",
    "ganjil = [int(i) for i in nim if int(i) %2 != 0]\n",
    "print(\"Genap: \", genap)\n",
    "print(\"Ganjil: \", ganjil)"
   ]
  },
  {
   "cell_type": "markdown",
   "id": "9ca5bd5c",
   "metadata": {},
   "source": [
    "Buat fungsi hitung_luas_persegi(sisi) yang mengembalikan luas persegi."
   ]
  },
  {
   "cell_type": "code",
   "execution_count": 80,
   "id": "5bb2ed4a",
   "metadata": {},
   "outputs": [
    {
     "name": "stdout",
     "output_type": "stream",
     "text": [
      "10 x 10 = 100\n"
     ]
    }
   ],
   "source": [
    "\n",
    "panjang = int(input(\"Panjang: \"))\n",
    "lebar = int(input(\"Lebar: \"))\n",
    "\n",
    "def LuasPersegi(panjang, lebar):\n",
    "    return panjang * lebar\n",
    "\n",
    "print(panjang, 'x', lebar, '=', LuasPersegi(panjang, lebar))\n"
   ]
  },
  {
   "cell_type": "markdown",
   "id": "9a9a0921",
   "metadata": {},
   "source": [
    "Diberi array [5, 3, 8, 2], urutkan dari besar ke kecil tanpa sort()"
   ]
  },
  {
   "cell_type": "code",
   "execution_count": 82,
   "id": "b62712a5",
   "metadata": {},
   "outputs": [
    {
     "name": "stdout",
     "output_type": "stream",
     "text": [
      "[8, 5, 3, 2]\n"
     ]
    }
   ],
   "source": [
    "array = [5, 3, 8, 2]\n",
    "urut = sorted(array, reverse=True)\n",
    "print(urut)"
   ]
  },
  {
   "cell_type": "markdown",
   "id": "00baeb26",
   "metadata": {},
   "source": [
    " Buat program input nama depan dan belakang, lalu gabungkan jadi satu string."
   ]
  },
  {
   "cell_type": "code",
   "execution_count": null,
   "id": "bc080b23",
   "metadata": {},
   "outputs": [],
   "source": [
    "nama_depan = str(input(\"Nama depan: \"))\n",
    "nama_belakang = str(input(\"Nama belakang: \"))\n",
    "\n",
    "print(f\"Halo, saya {nama_depan} {nama_belakang}\")"
   ]
  },
  {
   "cell_type": "code",
   "execution_count": 102,
   "id": "82729687",
   "metadata": {},
   "outputs": [
    {
     "name": "stdout",
     "output_type": "stream",
     "text": [
      "Halo, saya Ardi Bagus\n"
     ]
    }
   ],
   "source": [
    "nama_depan = (str(input(\"Nama depan: \")))\n",
    "nama_belakang = (str(input(\"Nama belakang: \")))\n",
    "\n",
    "print(f\"Halo, saya {nama_depan} {nama_belakang}\")\n"
   ]
  },
  {
   "cell_type": "markdown",
   "id": "c6f13a9e",
   "metadata": {},
   "source": [
    "Buat fungsi cek_prima(n) yang mengecek apakah n adalah bilangan prima."
   ]
  },
  {
   "cell_type": "code",
   "execution_count": null,
   "id": "313c227e",
   "metadata": {},
   "outputs": [],
   "source": [
    "\n",
    "            \n",
    "        \n",
    "        "
   ]
  },
  {
   "cell_type": "markdown",
   "id": "dad67e65",
   "metadata": {},
   "source": [
    "Soal"
   ]
  },
  {
   "cell_type": "code",
   "execution_count": 1,
   "id": "a3329907",
   "metadata": {},
   "outputs": [
    {
     "name": "stdout",
     "output_type": "stream",
     "text": [
      "12\n"
     ]
    }
   ],
   "source": [
    "m = 12\n",
    "print(m)"
   ]
  },
  {
   "cell_type": "markdown",
   "id": "79b1cbdd",
   "metadata": {},
   "source": [
    "Buat fungsi bernama konversi_c_ke_f(celcius) yang mengubah suhu dari Celcius ke Fahrenheit (F = C × 9/5 + 32)"
   ]
  },
  {
   "cell_type": "code",
   "execution_count": 2,
   "id": "5e6c098b",
   "metadata": {},
   "outputs": [
    {
     "name": "stdout",
     "output_type": "stream",
     "text": [
      "Fahrenheit:  59.0\n"
     ]
    }
   ],
   "source": [
    "c = int(input(\"Masukan Celcius: \"))\n",
    "F = (c * 9/5 + 32)\n",
    "print(\"Fahrenheit: \", F)"
   ]
  },
  {
   "cell_type": "markdown",
   "id": "8547a9da",
   "metadata": {},
   "source": [
    "Hitung jumlah huruf vokal dalam string\n",
    "Buat fungsi hitung_vokal(kalimat) yang menerima input string dan mengembalikan jumlah huruf vokal (a, i, u, e, o)"
   ]
  },
  {
   "cell_type": "code",
   "execution_count": 6,
   "id": "3a12e05b",
   "metadata": {},
   "outputs": [
    {
     "name": "stdout",
     "output_type": "stream",
     "text": [
      "Jumlah huruf vokal:  2\n"
     ]
    }
   ],
   "source": [
    "def hitung_vokal(kalimat):\n",
    "    vokal = \"aiueoAIUEO\"\n",
    "    jumlah = 0\n",
    "    for huruf in kalimat:\n",
    "        if huruf in vokal:\n",
    "            jumlah += 1\n",
    "    return jumlah\n",
    "kalimat = str(input(\"Masukkan kalimat: \"))\n",
    "print(\"Jumlah huruf vokal: \", hitung_vokal(kalimat))"
   ]
  },
  {
   "cell_type": "markdown",
   "id": "747a38c6",
   "metadata": {},
   "source": [
    "Balik kata\n",
    "Buat program yang menerima input string dari user, lalu menampilkan versi terbalik dari kata tersebut.\n",
    "Contoh: \"python\" → \"nohtyp\""
   ]
  },
  {
   "cell_type": "code",
   "execution_count": 7,
   "id": "505f415a",
   "metadata": {},
   "outputs": [
    {
     "name": "stdout",
     "output_type": "stream",
     "text": [
      "Versi terbalik:  idrawuzaL\n"
     ]
    }
   ],
   "source": [
    "kata = str(input(\"Masukkan kata: \"))\n",
    "kata_terbalik = kata[::-1]\n",
    "print(\"Versi terbalik: \", kata_terbalik)"
   ]
  },
  {
   "cell_type": "markdown",
   "id": "3a303135",
   "metadata": {},
   "source": [
    "Cek palindrome\n",
    "Buat fungsi is_palindrome(kata) yang mengembalikan True jika kata itu sama dibaca dari depan dan belakang.\n",
    "Contoh: \"katak\" → True, \"mobil\" → False"
   ]
  },
  {
   "cell_type": "code",
   "execution_count": 17,
   "id": "ace2ead2",
   "metadata": {},
   "outputs": [
    {
     "name": "stdout",
     "output_type": "stream",
     "text": [
      "mobilm\n",
      "Kata tersebut bukan palindroma\n",
      "Apakah 'mobilm' adalah palindroma? False\n"
     ]
    }
   ],
   "source": [
    "def is_palindroma(kata):\n",
    "    return kata == kata[::-1]\n",
    "kata = str(input(\"Masukan Kata: \"))\n",
    "print(kata)\n",
    "if is_palindroma(kata):\n",
    "    print(\"kata tersebut adalah palindroma\")\n",
    "else: \n",
    "    print(\"Kata tersebut bukan palindroma\")\n",
    "\n",
    "result = is_palindroma(kata)\n",
    "print(f\"Apakah '{kata}' adalah palindroma? {result}\")"
   ]
  },
  {
   "cell_type": "markdown",
   "id": "49076934",
   "metadata": {},
   "source": [
    "Buat list dari 1-20, tampilkan semua kelipatan 3\n",
    "Gunakan list comprehension untuk membuat list angka 1-20, dan tampilkan semua angka yang habis dibagi 3."
   ]
  },
  {
   "cell_type": "code",
   "execution_count": 34,
   "id": "68687c36",
   "metadata": {},
   "outputs": [
    {
     "name": "stdout",
     "output_type": "stream",
     "text": [
      "[3, 6, 9, 12, 15, 18, 21]\n"
     ]
    }
   ],
   "source": [
    "list = [1,2,3,4,5,6,7,8,9,10,11,12,13,14,15,16,17,18,19,20,21]\n",
    "kelipatan = [i for i in list if i % 3 == 0]\n",
    "print(kelipatan)"
   ]
  },
  {
   "cell_type": "markdown",
   "id": "bdfb0873",
   "metadata": {},
   "source": [
    "Data mahasiswa (dictionary + loop)\n",
    "Buat list berisi beberapa dictionary mahasiswa seperti ini:\n",
    "\n",
    "mahasiswa = [\n",
    "  {\"nama\": \"Andi\", \"ipk\": 3.2},\n",
    "  {\"nama\": \"Budi\", \"ipk\": 2.9},\n",
    "  {\"nama\": \"Citra\", \"ipk\": 3.7}\n",
    "]\n",
    "Cetak nama-nama mahasiswa yang IPK-nya di atas 3.0."
   ]
  },
  {
   "cell_type": "code",
   "execution_count": 45,
   "id": "cc84ec98",
   "metadata": {},
   "outputs": [
    {
     "name": "stdout",
     "output_type": "stream",
     "text": [
      "Mahasiswa dengan ipk 3.0:  Andi\n",
      "Mahasiswa dengan ipk 3.0:  Citra\n",
      "Mahasiswa dengan ipk 3.0:  Dewi\n",
      "Mahasiswa dengan ipk 3.0:  Fani\n",
      "Mahasiswa dengan ipk 3.0:  Gina\n",
      "Mahasiswa dengan ipk 3.0:  Ika\n"
     ]
    }
   ],
   "source": [
    "mahasiswa = [\n",
    "  {\"nama\": \"Andi\", \"ipk\": 3.2},\n",
    "  {\"nama\": \"Budi\", \"ipk\": 2.9},\n",
    "  {\"nama\": \"Citra\", \"ipk\": 3.7},\n",
    "  {\"nama\": \"Dewi\", \"ipk\": 3.5},\n",
    "  {\"nama\": \"Eko\", \"ipk\": 2.8},\n",
    "  {\"nama\": \"Fani\", \"ipk\": 3.9},\n",
    "  {\"nama\": \"Gina\", \"ipk\": 3.1},\n",
    "  {\"nama\": \"Hadi\", \"ipk\": 2.7},\n",
    "  {\"nama\": \"Ika\", \"ipk\": 3.4},\n",
    "  {\"nama\": \"Joko\", \"ipk\": 2.6}\n",
    "]\n",
    "for mhs in mahasiswa:\n",
    "    if mhs[\"ipk\"] > 3.0:\n",
    "        print(\"Mahasiswa dengan ipk 3.0: \", mhs[\"nama\"])\n",
    "    else:\n",
    "        -1\n"
   ]
  },
  {
   "cell_type": "markdown",
   "id": "7940a95e",
   "metadata": {},
   "source": [
    "Jumlah digit dalam angka\n",
    "Buat fungsi jumlah_digit(angka) yang menerima integer (misal: 1234) dan mengembalikan jumlah semua digitnya → 1 + 2 + 3 + 4 = 10"
   ]
  },
  {
   "cell_type": "code",
   "execution_count": 61,
   "id": "a3be4021",
   "metadata": {},
   "outputs": [
    {
     "name": "stdout",
     "output_type": "stream",
     "text": [
      "Jumlah digit:  28\n"
     ]
    }
   ],
   "source": [
    "jumlah_digit = input(\"Masukkan angka: \")\n",
    "hasil = sum([int(i) for i in jumlah_digit])\n",
    "print(\"Jumlah digit: \", hasil)"
   ]
  },
  {
   "cell_type": "markdown",
   "id": "cb07c638",
   "metadata": {},
   "source": [
    " Konversi angka ke huruf (0–100)\n",
    "Buat fungsi angka_ke_huruf(nilai) yang mengubah angka 0–100 menjadi huruf:\n",
    "\n",
    "80–100 → A\n",
    "\n",
    "70–79 → B\n",
    "\n",
    "60–69 → C\n",
    "\n",
    "50–59 → D\n",
    "\n",
    "<50 → E"
   ]
  },
  {
   "cell_type": "code",
   "execution_count": 72,
   "id": "f9066922",
   "metadata": {},
   "outputs": [
    {
     "name": "stdout",
     "output_type": "stream",
     "text": [
      "B\n"
     ]
    }
   ],
   "source": [
    "nilai = int(input(\"Masukkan nilai: \"))\n",
    "def angka_ke_huruf(nilai):\n",
    "    if 80 <= nilai <= 100:\n",
    "        return \"A\"\n",
    "    elif 70 <= nilai < 80:\n",
    "        return \"B\"\n",
    "    elif 60 <= nilai < 70:\n",
    "        return \"C\"\n",
    "    elif 50 <= nilai < 60:\n",
    "        return \"D\"\n",
    "    else:\n",
    "        return \"E\"\n",
    "print(angka_ke_huruf(nilai))"
   ]
  }
 ],
 "metadata": {
  "kernelspec": {
   "display_name": "Python 3",
   "language": "python",
   "name": "python3"
  },
  "language_info": {
   "codemirror_mode": {
    "name": "ipython",
    "version": 3
   },
   "file_extension": ".py",
   "mimetype": "text/x-python",
   "name": "python",
   "nbconvert_exporter": "python",
   "pygments_lexer": "ipython3",
   "version": "3.12.3"
  }
 },
 "nbformat": 4,
 "nbformat_minor": 5
}
